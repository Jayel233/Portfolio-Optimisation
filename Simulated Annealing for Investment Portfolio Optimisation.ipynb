{
 "cells": [
  {
   "cell_type": "markdown",
   "metadata": {},
   "source": [
    "# Investment portfolio Optimization using Simmulated Annealing Algorithms vs a Greedy Hueristic Approach "
   ]
  },
  {
   "cell_type": "markdown",
   "metadata": {},
   "source": [
    "A greedy algorithm, is an optimization alogirthm that always makes the choice that seems to be the best at that moment. This means that it makes a locally-optimal choice in the hope that this choice will lead to a globally-optimal solution. The algorithm makes the optimal choice at each step as it attempts to find the overall optimal way to solve the entire problem. \n",
    "\n",
    "Simulated annealing  on the other hand is a probabilistic technique for approximating the global optimum of a given function. The algorithm is basically hill-climbing except instead of picking the best move, it picks a random move.  If the selected move improves the solution, then it is always accepted.\n",
    "\n",
    "In this project we assess both methods ability to create the optimal investment portfolio give a dataframe of projects, their associated revenue and the total budget as the constraint"
   ]
  },
  {
   "cell_type": "code",
   "execution_count": 1,
   "metadata": {
    "collapsed": true
   },
   "outputs": [],
   "source": [
    "import time\n",
    "import numpy as np\n",
    "import pandas as pd\n",
    "import random as rd\n",
    "import matplotlib.pyplot as plt\n",
    "import seaborn as sns\n"
   ]
  },
  {
   "cell_type": "code",
   "execution_count": 2,
   "metadata": {
    "collapsed": false
   },
   "outputs": [],
   "source": [
    "projects = pd.read_csv('/Users/pro/Business Analytics /Python/Coursework/Projects-year2.csv') # Loads the data\n",
    "budget = projects['Budget'][0] # Extracts the budget"
   ]
  },
  {
   "cell_type": "code",
   "execution_count": 3,
   "metadata": {
    "collapsed": false
   },
   "outputs": [
    {
     "data": {
      "text/html": [
       "<div>\n",
       "<style>\n",
       "    .dataframe thead tr:only-child th {\n",
       "        text-align: right;\n",
       "    }\n",
       "\n",
       "    .dataframe thead th {\n",
       "        text-align: left;\n",
       "    }\n",
       "\n",
       "    .dataframe tbody tr th {\n",
       "        vertical-align: top;\n",
       "    }\n",
       "</style>\n",
       "<table border=\"1\" class=\"dataframe\">\n",
       "  <thead>\n",
       "    <tr style=\"text-align: right;\">\n",
       "      <th></th>\n",
       "      <th>Project</th>\n",
       "      <th>Revenue</th>\n",
       "      <th>Cost</th>\n",
       "      <th>Budget</th>\n",
       "    </tr>\n",
       "  </thead>\n",
       "  <tbody>\n",
       "    <tr>\n",
       "      <th>0</th>\n",
       "      <td>1</td>\n",
       "      <td>186</td>\n",
       "      <td>166</td>\n",
       "      <td>3982518.0</td>\n",
       "    </tr>\n",
       "    <tr>\n",
       "      <th>1</th>\n",
       "      <td>2</td>\n",
       "      <td>1488</td>\n",
       "      <td>1328</td>\n",
       "      <td>NaN</td>\n",
       "    </tr>\n",
       "    <tr>\n",
       "      <th>2</th>\n",
       "      <td>3</td>\n",
       "      <td>720</td>\n",
       "      <td>600</td>\n",
       "      <td>NaN</td>\n",
       "    </tr>\n",
       "    <tr>\n",
       "      <th>3</th>\n",
       "      <td>4</td>\n",
       "      <td>480</td>\n",
       "      <td>400</td>\n",
       "      <td>NaN</td>\n",
       "    </tr>\n",
       "    <tr>\n",
       "      <th>4</th>\n",
       "      <td>5</td>\n",
       "      <td>960</td>\n",
       "      <td>800</td>\n",
       "      <td>NaN</td>\n",
       "    </tr>\n",
       "  </tbody>\n",
       "</table>\n",
       "</div>"
      ],
      "text/plain": [
       "   Project  Revenue  Cost     Budget\n",
       "0        1      186   166  3982518.0\n",
       "1        2     1488  1328        NaN\n",
       "2        3      720   600        NaN\n",
       "3        4      480   400        NaN\n",
       "4        5      960   800        NaN"
      ]
     },
     "execution_count": 3,
     "metadata": {},
     "output_type": "execute_result"
    }
   ],
   "source": [
    "projects.head()"
   ]
  },
  {
   "cell_type": "code",
   "execution_count": 4,
   "metadata": {
    "collapsed": true
   },
   "outputs": [],
   "source": [
    "min_cost = projects['Cost'].min() \n",
    "#Minimal project cost, will be used to stop the greedy algorithm when there is imposible to fit any other project\n",
    "revenues = projects['Revenue'].tolist() #Extracts revenues of projects as a list\n",
    "costs = projects['Cost'].tolist() #Extracts costs of projects as a list\n",
    "project_id = projects['Project'].tolist() #Extract project IDs as a list\n",
    "\n"
   ]
  },
  {
   "cell_type": "code",
   "execution_count": 5,
   "metadata": {
    "collapsed": true
   },
   "outputs": [],
   "source": [
    "best_total_cost = 0 #Stores the total costs of the best portfolio\n",
    "best_total_revenue = 0 #Stores the total revenue of the best portfolio\n",
    "best_used_projects = [] #Stores the project IDs  in the best portfolio\n",
    "best_used_projects_index = [False]*len(projects) \n",
    "#Boolean list having True when project is included and False otherwise, decision variable list"
   ]
  },
  {
   "cell_type": "code",
   "execution_count": 6,
   "metadata": {
    "collapsed": true
   },
   "outputs": [],
   "source": [
    "portfolio_eval = [] # Stores the evaluation when new best portfolio have been found (Best portfolio history)\n",
    "portfolio_revenue = [] # Stores the revenue of best portfolios\n",
    "portfolio_cost = [] # Stores the cost of best portfolios\n",
    "\n"
   ]
  },
  {
   "cell_type": "code",
   "execution_count": 7,
   "metadata": {
    "collapsed": false
   },
   "outputs": [
    {
     "name": "stdout",
     "output_type": "stream",
     "text": [
      "('Budget:', 3982518.0)\n",
      "('Total Costs', 3982490)\n",
      "('Total Revenue', 4578150)\n",
      "('Project Ratio', 1)\n",
      "('Number of projects:', 5413)\n"
     ]
    }
   ],
   "source": [
    "#Initial Portfolio\n",
    "\n",
    "sample = rd.sample(range(len(project_id)),len(project_id))  \n",
    "# Simulates and shuffles the index, to create the base for random portfolio\n",
    "\n",
    "for i in sample:  # Takes project with shuffled index, performs greedy heuristics\n",
    "    if best_total_cost + costs[i] <= budget:  \n",
    "        # If the shuffled project fits into budget, it gets inserted and portfolio parameters are updated\n",
    "        best_total_revenue = best_total_revenue + revenues[i]\n",
    "        best_total_cost = best_total_cost + costs[i]\n",
    "        best_used_projects.append(project_id[i])\n",
    "        best_used_projects_index[i] = True\n",
    "\n",
    "    elif budget - best_total_cost < min_cost:  \n",
    "# If project does not fit, checks whether there is free budget to insert any project at all, if not break the loop\n",
    "        break\n",
    "    else:  # If there is enough space to fit some project, the loop continues\n",
    "            next\n",
    "\n",
    "print('Budget:', budget)\n",
    "print('Total Costs', best_total_cost)\n",
    "print('Total Revenue', best_total_revenue)\n",
    "print('Project Ratio', best_total_revenue / best_total_cost)\n",
    "print('Number of projects:', len(best_used_projects))\n",
    "#print('Projects used:', best_used_projects)\n",
    "#print(projects.loc[best_used_projects_index])\n",
    "\n",
    "\n",
    "best_tc1=best_total_cost\n",
    "best_tr1=best_total_revenue"
   ]
  },
  {
   "cell_type": "code",
   "execution_count": 8,
   "metadata": {
    "collapsed": false
   },
   "outputs": [
    {
     "name": "stderr",
     "output_type": "stream",
     "text": [
      "/Users/pro/anaconda/lib/python2.7/site-packages/ipykernel_launcher.py:27: RuntimeWarning: overflow encountered in exp\n"
     ]
    },
    {
     "name": "stdout",
     "output_type": "stream",
     "text": [
      "('Budget:', 3982518.0)\n",
      "('Total Costs', 3982490)\n",
      "('Total Revenue', 4582770)\n",
      "('Project Ratio', 1)\n",
      "('Number of projects:', 5442)\n",
      "4582770\n"
     ]
    }
   ],
   "source": [
    "#Simulated Annealing\n",
    "eval = 0\n",
    "T = 10\n",
    "max_eval=len(project_id)\n",
    "P=5\n",
    "portfolio_eval.append(eval) #Inserts the initial portfolio into history table\n",
    "portfolio_revenue.append(best_total_revenue)\n",
    "portfolio_cost.append(best_total_cost)\n",
    "\n",
    "while eval < max_eval:\n",
    "    total_cost = 0 #Resets the new portfolio characteristics every evaluations\n",
    "    total_revenue = 0\n",
    "    used_projects = []\n",
    "    used_projects_index = best_used_projects_index[:] #Use the current best portfolio as the base\n",
    "\n",
    "    index_sample = rd.sample(range(len(project_id)),P) #Randomly selects P decision variables in current best portfolio\n",
    "\n",
    "    for i in index_sample:\n",
    "        used_projects_index[i] = not best_used_projects_index[i] #Flips the P randomly selected decision variables\n",
    "\n",
    "    for j in projects.loc[used_projects_index].index: #Calculates the parameters of new portfolio\n",
    "        total_revenue = total_revenue + revenues[j]\n",
    "        total_cost = total_cost + costs[j]\n",
    "        used_projects.append(project_id[j])\n",
    "\n",
    "    if total_cost <= budget: #Checks whether the new portfolio is feasible\n",
    "        if np.exp((total_revenue - best_total_revenue)/T) > rd.random(): \n",
    "            #If the new portfolio is better than current best, replace the current best\n",
    "            best_total_revenue = total_revenue\n",
    "            best_total_cost = total_cost\n",
    "            best_used_projects = used_projects\n",
    "            best_used_projects_index = used_projects_index\n",
    "\n",
    "            portfolio_eval.append(eval)\n",
    "            portfolio_revenue.append(best_total_revenue)\n",
    "            portfolio_cost.append(best_total_cost)\n",
    "\n",
    "    eval = eval + 1\n",
    "    T = 0.95 * T\n",
    "\n",
    "print('Budget:', budget)\n",
    "print('Total Costs', best_total_cost)\n",
    "print('Total Revenue', best_total_revenue)\n",
    "print('Project Ratio', best_total_revenue / best_total_cost)\n",
    "print('Number of projects:', len(best_used_projects))\n",
    "#print('Projects used:', best_used_projects)\n",
    "#print(projects.loc[best_used_projects_index])\n",
    "\n",
    "portfolios = pd.DataFrame({'Evaluations': portfolio_eval, 'Revenue': portfolio_revenue,\"Cost\": portfolio_cost})  \n",
    "# Dataframe of history of best portfolios\n",
    "#print(portfolios[['Evaluations', 'Revenue', 'Cost']])\n",
    "\n",
    "print(best_total_revenue)\n",
    "\n"
   ]
  },
  {
   "cell_type": "code",
   "execution_count": 9,
   "metadata": {
    "collapsed": false
   },
   "outputs": [
    {
     "data": {
      "image/png": "[encoded data removed]",
      "text/plain": [
       "<matplotlib.figure.Figure at 0x117d0fb90>"
      ]
     },
     "metadata": {},
     "output_type": "display_data"
    }
   ],
   "source": [
    "Total_Revenue = [best_tr1,best_total_revenue]\n",
    "Total_Cost = [best_tc1, best_total_cost]\n",
    "index = ['Greedy Hueristic', 'Sim Annealing']\n",
    "df = pd.DataFrame({'Total Revenue': Total_Revenue,\n",
    "                  'Total Cost': Total_Cost},index=index)\n",
    "\n",
    "#plt.axis([None,None,3000000,4700000])\n",
    "\n",
    "ax = df['Total Revenue'].plot.bar(figsize=(5,10),rot=0)\n",
    "ax.legend(bbox_to_anchor=(1.05, 1), loc=2, borderaxespad=0.)\n",
    "ax.axis([None,None,4540000,4600000])\n",
    "\n",
    "\n",
    "plt.show()"
   ]
  },
  {
   "cell_type": "code",
   "execution_count": 10,
   "metadata": {
    "collapsed": false
   },
   "outputs": [
    {
     "data": {
      "image/png": "[encoded data removed]",
      "text/plain": [
       "<matplotlib.figure.Figure at 0x117d56f10>"
      ]
     },
     "metadata": {},
     "output_type": "display_data"
    }
   ],
   "source": [
    "\n",
    "ax = df['Total Cost'].plot.bar(figsize=(5,10),rot=0)\n",
    "ax.legend(bbox_to_anchor=(1.05, 1), loc=2, borderaxespad=0.)\n",
    "ax.axis([None,None,3840000,4000000])\n",
    "\n",
    "\n",
    "plt.show()"
   ]
  },
  {
   "cell_type": "markdown",
   "metadata": {},
   "source": [
    "From the above graphs, it is easy to see how a simmulated anealing algorithm optimizes the portfolio by increasing revenue while keeping the total cost virtually the same "
   ]
  },
  {
   "cell_type": "code",
   "execution_count": null,
   "metadata": {
    "collapsed": true
   },
   "outputs": [],
   "source": []
  }
 ],
 "metadata": {
  "kernelspec": {
   "display_name": "Python 3",
   "language": "python",
   "name": "python3"
  },
  "language_info": {
   "codemirror_mode": {
    "name": "ipython",
    "version": 2
   },
   "file_extension": ".py",
   "mimetype": "text/x-python",
   "name": "python",
   "nbconvert_exporter": "python",
   "pygments_lexer": "ipython2",
   "version": "2.7.13"
  }
 },
 "nbformat": 4,
 "nbformat_minor": 2
}
